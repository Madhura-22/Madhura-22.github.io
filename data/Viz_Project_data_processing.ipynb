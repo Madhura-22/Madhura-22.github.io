{
  "nbformat": 4,
  "nbformat_minor": 0,
  "metadata": {
    "colab": {
      "name": "Viz Project.ipynb",
      "provenance": [],
      "collapsed_sections": [],
      "toc_visible": true
    },
    "kernelspec": {
      "name": "python3",
      "display_name": "Python 3"
    }
  },
  "cells": [
    {
      "cell_type": "code",
      "metadata": {
        "id": "HofmT03i0-SG",
        "colab": {
          "base_uri": "https://localhost:8080/"
        },
        "outputId": "7e12d4cd-4323-4e5b-97b6-cd0a29d83848"
      },
      "source": [
        "from google.colab import drive\n",
        "drive.mount('/content/drive')"
      ],
      "execution_count": null,
      "outputs": [
        {
          "output_type": "stream",
          "text": [
            "Mounted at /content/drive\n"
          ],
          "name": "stdout"
        }
      ]
    },
    {
      "cell_type": "markdown",
      "metadata": {
        "id": "d5xQSQ4dK-Tx"
      },
      "source": [
        ""
      ]
    },
    {
      "cell_type": "code",
      "metadata": {
        "id": "ITSuwJc12M3R"
      },
      "source": [
        "import pandas as pd\n",
        "import numpy as np"
      ],
      "execution_count": null,
      "outputs": []
    },
    {
      "cell_type": "markdown",
      "metadata": {
        "id": "Zv9u06uCq7m9"
      },
      "source": [
        "#Preprocessing "
      ]
    },
    {
      "cell_type": "code",
      "metadata": {
        "id": "YISZsUpbvNzV"
      },
      "source": [
        "df_final = pd.read_csv(\"/content/drive/My Drive/Suicides in India 2001-2012.csv\")"
      ],
      "execution_count": null,
      "outputs": []
    },
    {
      "cell_type": "markdown",
      "metadata": {
        "id": "SiSouwBQr6Y0"
      },
      "source": [
        "##Removing the rows with no suicides and the where the type code isn't \"Causes\""
      ]
    },
    {
      "cell_type": "code",
      "metadata": {
        "id": "naNiGtDlvXuC"
      },
      "source": [
        "df_final = df_final[(df_final[\"Total\"] != 0) & (df_final[\"Type_code\"] == \"Causes\")]"
      ],
      "execution_count": null,
      "outputs": []
    },
    {
      "cell_type": "markdown",
      "metadata": {
        "id": "0Yr24l5UsEtj"
      },
      "source": [
        "##Adding Categories column by grouping reasons "
      ]
    },
    {
      "cell_type": "code",
      "metadata": {
        "id": "rkrvrHV-x-uS"
      },
      "source": [
        "\n",
        "Sickness = ['Other Prolonged Illness', 'Illness (Aids/STD)', 'Cancer', 'Paralysis', 'Insanity/Mental Illness']\n",
        "Fin_issue = [ 'Poverty',  'Professional/Career Problem', 'Bankruptcy or Sudden change in Economic', \n",
        "             'Bankruptcy or Sudden change in Economic Status','Property Dispute', 'Unemployment']\n",
        "Rel_trb = ['Family Problems', 'Death of Dear Person', 'Not having Children (Barrenness/Impotency', \n",
        "           'Not having Children(Barrenness/Impotency', 'Love Affairs', 'Divorce',  'Suspected/Illicit Relation',\n",
        "           'Dowry Dispute', 'Illegitimate Pregnancy', 'Cancellation/Non-Settlement of Marriage']\n",
        "Societal_pressure = [ 'Ideological Causes/Hero Worshipping','Failure in Examination', 'Fall in Social Reputation']"
      ],
      "execution_count": null,
      "outputs": []
    },
    {
      "cell_type": "code",
      "metadata": {
        "id": "RsrgKuhLvmek"
      },
      "source": [
        "def new_col(row):\n",
        "  s = row[\"Type\"]\n",
        "  if s in Sickness:\n",
        "    return \"Sickness\"\n",
        "  elif s in Fin_issue:\n",
        "    return \"Financial issues\"\n",
        "  elif s in Rel_trb:\n",
        "    return \"Relation Troubles\"\n",
        "  elif s in Societal_pressure:\n",
        "    return \"Pressures of Society\"\n",
        "  elif s == \"Other Causes (Please Specity)\":\n",
        "    return \"Others Causes\"\n",
        "  else:\n",
        "    return s\n",
        "\n",
        "  "
      ],
      "execution_count": null,
      "outputs": []
    },
    {
      "cell_type": "markdown",
      "metadata": {
        "id": "8RJWDmeGsIxd"
      },
      "source": [
        "##Correcting state names to match with GeoJson"
      ]
    },
    {
      "cell_type": "code",
      "metadata": {
        "id": "77VvBbq4yPSK"
      },
      "source": [
        "def State_names(row):\n",
        "  s = row[\"State\"]\n",
        "  if s == \"Odisha\":\n",
        "    return \"Orissa\"\n",
        "  \n",
        "  elif s == \"Jammu & Kashmir\":\n",
        "    return \"Jammu and Kashmir\"\n",
        "  \n",
        "  elif s == \"Uttarakhand\":\n",
        "    return \"Uttaranchal\"\n",
        "  \n",
        "  elif s == \"D & N Haveli\":\n",
        "    return \"Dadra and Nagar Haveli\"\n",
        "  \n",
        "  elif s == \"Delhi (Ut)\":\n",
        "    return \"Delhi\"\n",
        "  \n",
        "  elif s == \"A & N Islands\":\n",
        "    return \"Andaman and Nicobar\"\n",
        "  \n",
        "  elif s == \"Daman & Diu\":\n",
        "    return \"Daman and Diu\"\n",
        "  \n",
        "  else: return s"
      ],
      "execution_count": null,
      "outputs": []
    },
    {
      "cell_type": "code",
      "metadata": {
        "id": "UFKo3klGzjAk"
      },
      "source": [
        "df_final['State'] = df_final.apply(lambda row: State_names(row), axis=1)"
      ],
      "execution_count": null,
      "outputs": []
    },
    {
      "cell_type": "code",
      "metadata": {
        "id": "1_rWn1hn3vuI"
      },
      "source": [
        "df_final['Categories'] =df_final.apply(lambda row: new_col(row), axis=1)"
      ],
      "execution_count": null,
      "outputs": []
    },
    {
      "cell_type": "code",
      "metadata": {
        "id": "m1Do3u4pCIfO"
      },
      "source": [
        "df_final.to_csv(\"Project_data.csv\")"
      ],
      "execution_count": null,
      "outputs": []
    },
    {
      "cell_type": "markdown",
      "metadata": {
        "id": "LOHFc-dwu90v"
      },
      "source": [
        "##Creating the state wise totals and percentages per year for heatmap and line chart"
      ]
    },
    {
      "cell_type": "code",
      "metadata": {
        "id": "M5xZuivdeE8-"
      },
      "source": [
        "df_final2 = pd.DataFrame(columns=[\"Year\",\"State\", \"Total\"])\n",
        "for idx,grp in df_final.groupby(\"Year\"):\n",
        "  for idy,g2 in grp.groupby(\"State\"):\n",
        "    sum(g2[\"Total\"])\n",
        "    df_final2.loc[len(df_final2)] = [idx,idy,sum(g2[\"Total\"])]\n"
      ],
      "execution_count": null,
      "outputs": []
    },
    {
      "cell_type": "code",
      "metadata": {
        "colab": {
          "base_uri": "https://localhost:8080/",
          "height": 415
        },
        "id": "S949EQv31sqb",
        "outputId": "82f44800-8a29-4356-a23e-300e55a8343c"
      },
      "source": [
        "df_pop = pd.read_excel(\"/content/drive/MyDrive/popstate.xlsx\",index_col=0,header=None)\n",
        "pop_by_state = list(df_pop[7])\n",
        "count = 0\n",
        "percentage = []\n",
        "years = [2001,2002,2003,2004,2005,2006,2007,2008,2009,2010,2011,2012]\n",
        "df_final_final_2 = pd.DataFrame(columns=[\"Year\",\"State\",\"Total\",\"Percentage\"])\n",
        "\n",
        "for idx,grp in df_final2.groupby(\"State\"):\n",
        "  perc =  list(grp[\"Total\"])\n",
        "  for i in range(0,len(grp)):\n",
        "    p = ((perc[i]/pop_by_state[count])*100)\n",
        "    df_final_final_2.loc[len(df_final_final_2)] = [years[i],idx,perc[i],p]\n",
        "  count = count + 1\n",
        " \n",
        "df_final_final_2 = df_final_final_2.sort_values(by=[\"Year\",\"State\"],ignore_index = True)\n",
        "display(df_final_final_2)"
      ],
      "execution_count": null,
      "outputs": [
        {
          "output_type": "display_data",
          "data": {
            "text/html": [
              "<div>\n",
              "<style scoped>\n",
              "    .dataframe tbody tr th:only-of-type {\n",
              "        vertical-align: middle;\n",
              "    }\n",
              "\n",
              "    .dataframe tbody tr th {\n",
              "        vertical-align: top;\n",
              "    }\n",
              "\n",
              "    .dataframe thead th {\n",
              "        text-align: right;\n",
              "    }\n",
              "</style>\n",
              "<table border=\"1\" class=\"dataframe\">\n",
              "  <thead>\n",
              "    <tr style=\"text-align: right;\">\n",
              "      <th></th>\n",
              "      <th>Year</th>\n",
              "      <th>State</th>\n",
              "      <th>Total</th>\n",
              "      <th>Percentage</th>\n",
              "    </tr>\n",
              "  </thead>\n",
              "  <tbody>\n",
              "    <tr>\n",
              "      <th>0</th>\n",
              "      <td>2001</td>\n",
              "      <td>Andaman and Nicobar</td>\n",
              "      <td>129</td>\n",
              "      <td>33.858268</td>\n",
              "    </tr>\n",
              "    <tr>\n",
              "      <th>1</th>\n",
              "      <td>2001</td>\n",
              "      <td>Andhra Pradesh</td>\n",
              "      <td>10522</td>\n",
              "      <td>12.440146</td>\n",
              "    </tr>\n",
              "    <tr>\n",
              "      <th>2</th>\n",
              "      <td>2001</td>\n",
              "      <td>Arunachal Pradesh</td>\n",
              "      <td>111</td>\n",
              "      <td>8.020231</td>\n",
              "    </tr>\n",
              "    <tr>\n",
              "      <th>3</th>\n",
              "      <td>2001</td>\n",
              "      <td>Assam</td>\n",
              "      <td>2647</td>\n",
              "      <td>8.482343</td>\n",
              "    </tr>\n",
              "    <tr>\n",
              "      <th>4</th>\n",
              "      <td>2001</td>\n",
              "      <td>Bihar</td>\n",
              "      <td>603</td>\n",
              "      <td>0.579256</td>\n",
              "    </tr>\n",
              "    <tr>\n",
              "      <th>...</th>\n",
              "      <td>...</td>\n",
              "      <td>...</td>\n",
              "      <td>...</td>\n",
              "      <td>...</td>\n",
              "    </tr>\n",
              "    <tr>\n",
              "      <th>408</th>\n",
              "      <td>2012</td>\n",
              "      <td>Sikkim</td>\n",
              "      <td>181</td>\n",
              "      <td>29.623568</td>\n",
              "    </tr>\n",
              "    <tr>\n",
              "      <th>409</th>\n",
              "      <td>2012</td>\n",
              "      <td>Tamil Nadu</td>\n",
              "      <td>16927</td>\n",
              "      <td>23.461821</td>\n",
              "    </tr>\n",
              "    <tr>\n",
              "      <th>410</th>\n",
              "      <td>2012</td>\n",
              "      <td>Tripura</td>\n",
              "      <td>844</td>\n",
              "      <td>22.972237</td>\n",
              "    </tr>\n",
              "    <tr>\n",
              "      <th>411</th>\n",
              "      <td>2012</td>\n",
              "      <td>Uttar Pradesh</td>\n",
              "      <td>4422</td>\n",
              "      <td>2.213080</td>\n",
              "    </tr>\n",
              "    <tr>\n",
              "      <th>412</th>\n",
              "      <td>2012</td>\n",
              "      <td>Uttaranchal</td>\n",
              "      <td>424</td>\n",
              "      <td>4.203847</td>\n",
              "    </tr>\n",
              "  </tbody>\n",
              "</table>\n",
              "<p>413 rows × 4 columns</p>\n",
              "</div>"
            ],
            "text/plain": [
              "     Year                State  Total  Percentage\n",
              "0    2001  Andaman and Nicobar    129   33.858268\n",
              "1    2001       Andhra Pradesh  10522   12.440146\n",
              "2    2001    Arunachal Pradesh    111    8.020231\n",
              "3    2001                Assam   2647    8.482343\n",
              "4    2001                Bihar    603    0.579256\n",
              "..    ...                  ...    ...         ...\n",
              "408  2012               Sikkim    181   29.623568\n",
              "409  2012           Tamil Nadu  16927   23.461821\n",
              "410  2012              Tripura    844   22.972237\n",
              "411  2012        Uttar Pradesh   4422    2.213080\n",
              "412  2012          Uttaranchal    424    4.203847\n",
              "\n",
              "[413 rows x 4 columns]"
            ]
          },
          "metadata": {
            "tags": []
          }
        }
      ]
    },
    {
      "cell_type": "code",
      "metadata": {
        "id": "bfc5x8xbLlZh"
      },
      "source": [
        "df_final_final_2.to_csv(\"Project_data2.csv\")"
      ],
      "execution_count": null,
      "outputs": []
    },
    {
      "cell_type": "markdown",
      "metadata": {
        "id": "f-i_SuAJvbcP"
      },
      "source": [
        "##Creating data for bar chart grouped by gender"
      ]
    },
    {
      "cell_type": "code",
      "metadata": {
        "id": "klSWrogEpIoi"
      },
      "source": [
        "df_final3 = pd.DataFrame(columns=[\"State\",\"Year\",\"Categories\",\"Gender\",\"Total\"])\n",
        "for idx,grp in df_final.groupby([\"State\",\"Year\",\"Categories\"]):\n",
        "  for idy, g2 in grp.groupby([\"Gender\"]):\n",
        "    df_final3.loc[len(df_final3)] = list(idx) + [idy, sum(g2[\"Total\"])]\n"
      ],
      "execution_count": null,
      "outputs": []
    },
    {
      "cell_type": "code",
      "metadata": {
        "id": "i9pDWd281sRV"
      },
      "source": [
        "df_final3.to_csv(\"Project_data3.csv\")"
      ],
      "execution_count": null,
      "outputs": []
    },
    {
      "cell_type": "code",
      "metadata": {
        "colab": {
          "base_uri": "https://localhost:8080/",
          "height": 415
        },
        "id": "rD6tATaUSdAy",
        "outputId": "1465cdad-0a68-4461-feda-b3c2a287bdb1"
      },
      "source": [
        "display(df_final3)"
      ],
      "execution_count": null,
      "outputs": [
        {
          "output_type": "display_data",
          "data": {
            "text/html": [
              "<div>\n",
              "<style scoped>\n",
              "    .dataframe tbody tr th:only-of-type {\n",
              "        vertical-align: middle;\n",
              "    }\n",
              "\n",
              "    .dataframe tbody tr th {\n",
              "        vertical-align: top;\n",
              "    }\n",
              "\n",
              "    .dataframe thead th {\n",
              "        text-align: right;\n",
              "    }\n",
              "</style>\n",
              "<table border=\"1\" class=\"dataframe\">\n",
              "  <thead>\n",
              "    <tr style=\"text-align: right;\">\n",
              "      <th></th>\n",
              "      <th>State</th>\n",
              "      <th>Year</th>\n",
              "      <th>Categories</th>\n",
              "      <th>Gender</th>\n",
              "      <th>Total</th>\n",
              "    </tr>\n",
              "  </thead>\n",
              "  <tbody>\n",
              "    <tr>\n",
              "      <th>0</th>\n",
              "      <td>Andaman and Nicobar</td>\n",
              "      <td>2001</td>\n",
              "      <td>Causes Not known</td>\n",
              "      <td>Female</td>\n",
              "      <td>12</td>\n",
              "    </tr>\n",
              "    <tr>\n",
              "      <th>1</th>\n",
              "      <td>Andaman and Nicobar</td>\n",
              "      <td>2001</td>\n",
              "      <td>Causes Not known</td>\n",
              "      <td>Male</td>\n",
              "      <td>27</td>\n",
              "    </tr>\n",
              "    <tr>\n",
              "      <th>2</th>\n",
              "      <td>Andaman and Nicobar</td>\n",
              "      <td>2001</td>\n",
              "      <td>Others Causes</td>\n",
              "      <td>Female</td>\n",
              "      <td>8</td>\n",
              "    </tr>\n",
              "    <tr>\n",
              "      <th>3</th>\n",
              "      <td>Andaman and Nicobar</td>\n",
              "      <td>2001</td>\n",
              "      <td>Others Causes</td>\n",
              "      <td>Male</td>\n",
              "      <td>9</td>\n",
              "    </tr>\n",
              "    <tr>\n",
              "      <th>4</th>\n",
              "      <td>Andaman and Nicobar</td>\n",
              "      <td>2001</td>\n",
              "      <td>Pressures of Society</td>\n",
              "      <td>Female</td>\n",
              "      <td>2</td>\n",
              "    </tr>\n",
              "    <tr>\n",
              "      <th>...</th>\n",
              "      <td>...</td>\n",
              "      <td>...</td>\n",
              "      <td>...</td>\n",
              "      <td>...</td>\n",
              "      <td>...</td>\n",
              "    </tr>\n",
              "    <tr>\n",
              "      <th>5089</th>\n",
              "      <td>West Bengal</td>\n",
              "      <td>2011</td>\n",
              "      <td>Pressures of Society</td>\n",
              "      <td>Male</td>\n",
              "      <td>286</td>\n",
              "    </tr>\n",
              "    <tr>\n",
              "      <th>5090</th>\n",
              "      <td>West Bengal</td>\n",
              "      <td>2011</td>\n",
              "      <td>Relation Troubles</td>\n",
              "      <td>Female</td>\n",
              "      <td>2978</td>\n",
              "    </tr>\n",
              "    <tr>\n",
              "      <th>5091</th>\n",
              "      <td>West Bengal</td>\n",
              "      <td>2011</td>\n",
              "      <td>Relation Troubles</td>\n",
              "      <td>Male</td>\n",
              "      <td>2640</td>\n",
              "    </tr>\n",
              "    <tr>\n",
              "      <th>5092</th>\n",
              "      <td>West Bengal</td>\n",
              "      <td>2011</td>\n",
              "      <td>Sickness</td>\n",
              "      <td>Female</td>\n",
              "      <td>776</td>\n",
              "    </tr>\n",
              "    <tr>\n",
              "      <th>5093</th>\n",
              "      <td>West Bengal</td>\n",
              "      <td>2011</td>\n",
              "      <td>Sickness</td>\n",
              "      <td>Male</td>\n",
              "      <td>1049</td>\n",
              "    </tr>\n",
              "  </tbody>\n",
              "</table>\n",
              "<p>5094 rows × 5 columns</p>\n",
              "</div>"
            ],
            "text/plain": [
              "                    State  Year            Categories  Gender Total\n",
              "0     Andaman and Nicobar  2001      Causes Not known  Female    12\n",
              "1     Andaman and Nicobar  2001      Causes Not known    Male    27\n",
              "2     Andaman and Nicobar  2001         Others Causes  Female     8\n",
              "3     Andaman and Nicobar  2001         Others Causes    Male     9\n",
              "4     Andaman and Nicobar  2001  Pressures of Society  Female     2\n",
              "...                   ...   ...                   ...     ...   ...\n",
              "5089          West Bengal  2011  Pressures of Society    Male   286\n",
              "5090          West Bengal  2011     Relation Troubles  Female  2978\n",
              "5091          West Bengal  2011     Relation Troubles    Male  2640\n",
              "5092          West Bengal  2011              Sickness  Female   776\n",
              "5093          West Bengal  2011              Sickness    Male  1049\n",
              "\n",
              "[5094 rows x 5 columns]"
            ]
          },
          "metadata": {
            "tags": []
          }
        }
      ]
    },
    {
      "cell_type": "markdown",
      "metadata": {
        "id": "rd4cOwFxzAXo"
      },
      "source": [
        "##Creating data for for barchart grouped by age groups"
      ]
    },
    {
      "cell_type": "code",
      "metadata": {
        "id": "FQ7-zbEFzHSx"
      },
      "source": [
        "df_final4 = pd.DataFrame(columns=[\"State\",\"Year\",\"Categories\",\"Age_group\",\"Total\"])\n",
        "for idx,grp in df_final.groupby([\"State\",\"Year\",\"Categories\"]):\n",
        "  for idy, g2 in grp.groupby([\"Age_group\"]):\n",
        "    df_final4.loc[len(df_final4)] = list(idx) + [idy, sum(g2[\"Total\"])]\n"
      ],
      "execution_count": null,
      "outputs": []
    },
    {
      "cell_type": "code",
      "metadata": {
        "id": "JGtlpOMWzHSx"
      },
      "source": [
        "df_final4.to_csv(\"Project_data4.csv\")"
      ],
      "execution_count": null,
      "outputs": []
    },
    {
      "cell_type": "code",
      "metadata": {
        "colab": {
          "base_uri": "https://localhost:8080/",
          "height": 415
        },
        "id": "vHGYeZ9xSpaZ",
        "outputId": "ee883b74-02d6-438d-c44a-f4cadb3d723c"
      },
      "source": [
        "display(df_final4)"
      ],
      "execution_count": null,
      "outputs": [
        {
          "output_type": "display_data",
          "data": {
            "text/html": [
              "<div>\n",
              "<style scoped>\n",
              "    .dataframe tbody tr th:only-of-type {\n",
              "        vertical-align: middle;\n",
              "    }\n",
              "\n",
              "    .dataframe tbody tr th {\n",
              "        vertical-align: top;\n",
              "    }\n",
              "\n",
              "    .dataframe thead th {\n",
              "        text-align: right;\n",
              "    }\n",
              "</style>\n",
              "<table border=\"1\" class=\"dataframe\">\n",
              "  <thead>\n",
              "    <tr style=\"text-align: right;\">\n",
              "      <th></th>\n",
              "      <th>State</th>\n",
              "      <th>Year</th>\n",
              "      <th>Categories</th>\n",
              "      <th>Age_group</th>\n",
              "      <th>Total</th>\n",
              "    </tr>\n",
              "  </thead>\n",
              "  <tbody>\n",
              "    <tr>\n",
              "      <th>0</th>\n",
              "      <td>Andaman and Nicobar</td>\n",
              "      <td>2001</td>\n",
              "      <td>Causes Not known</td>\n",
              "      <td>15-29</td>\n",
              "      <td>17</td>\n",
              "    </tr>\n",
              "    <tr>\n",
              "      <th>1</th>\n",
              "      <td>Andaman and Nicobar</td>\n",
              "      <td>2001</td>\n",
              "      <td>Causes Not known</td>\n",
              "      <td>30-44</td>\n",
              "      <td>10</td>\n",
              "    </tr>\n",
              "    <tr>\n",
              "      <th>2</th>\n",
              "      <td>Andaman and Nicobar</td>\n",
              "      <td>2001</td>\n",
              "      <td>Causes Not known</td>\n",
              "      <td>45-59</td>\n",
              "      <td>11</td>\n",
              "    </tr>\n",
              "    <tr>\n",
              "      <th>3</th>\n",
              "      <td>Andaman and Nicobar</td>\n",
              "      <td>2001</td>\n",
              "      <td>Causes Not known</td>\n",
              "      <td>60+</td>\n",
              "      <td>1</td>\n",
              "    </tr>\n",
              "    <tr>\n",
              "      <th>4</th>\n",
              "      <td>Andaman and Nicobar</td>\n",
              "      <td>2001</td>\n",
              "      <td>Others Causes</td>\n",
              "      <td>0-14</td>\n",
              "      <td>1</td>\n",
              "    </tr>\n",
              "    <tr>\n",
              "      <th>...</th>\n",
              "      <td>...</td>\n",
              "      <td>...</td>\n",
              "      <td>...</td>\n",
              "      <td>...</td>\n",
              "      <td>...</td>\n",
              "    </tr>\n",
              "    <tr>\n",
              "      <th>10929</th>\n",
              "      <td>West Bengal</td>\n",
              "      <td>2011</td>\n",
              "      <td>Sickness</td>\n",
              "      <td>0-14</td>\n",
              "      <td>8</td>\n",
              "    </tr>\n",
              "    <tr>\n",
              "      <th>10930</th>\n",
              "      <td>West Bengal</td>\n",
              "      <td>2011</td>\n",
              "      <td>Sickness</td>\n",
              "      <td>15-29</td>\n",
              "      <td>305</td>\n",
              "    </tr>\n",
              "    <tr>\n",
              "      <th>10931</th>\n",
              "      <td>West Bengal</td>\n",
              "      <td>2011</td>\n",
              "      <td>Sickness</td>\n",
              "      <td>30-44</td>\n",
              "      <td>678</td>\n",
              "    </tr>\n",
              "    <tr>\n",
              "      <th>10932</th>\n",
              "      <td>West Bengal</td>\n",
              "      <td>2011</td>\n",
              "      <td>Sickness</td>\n",
              "      <td>45-59</td>\n",
              "      <td>671</td>\n",
              "    </tr>\n",
              "    <tr>\n",
              "      <th>10933</th>\n",
              "      <td>West Bengal</td>\n",
              "      <td>2011</td>\n",
              "      <td>Sickness</td>\n",
              "      <td>60+</td>\n",
              "      <td>163</td>\n",
              "    </tr>\n",
              "  </tbody>\n",
              "</table>\n",
              "<p>10934 rows × 5 columns</p>\n",
              "</div>"
            ],
            "text/plain": [
              "                     State  Year        Categories Age_group Total\n",
              "0      Andaman and Nicobar  2001  Causes Not known     15-29    17\n",
              "1      Andaman and Nicobar  2001  Causes Not known     30-44    10\n",
              "2      Andaman and Nicobar  2001  Causes Not known     45-59    11\n",
              "3      Andaman and Nicobar  2001  Causes Not known       60+     1\n",
              "4      Andaman and Nicobar  2001     Others Causes      0-14     1\n",
              "...                    ...   ...               ...       ...   ...\n",
              "10929          West Bengal  2011          Sickness      0-14     8\n",
              "10930          West Bengal  2011          Sickness     15-29   305\n",
              "10931          West Bengal  2011          Sickness     30-44   678\n",
              "10932          West Bengal  2011          Sickness     45-59   671\n",
              "10933          West Bengal  2011          Sickness       60+   163\n",
              "\n",
              "[10934 rows x 5 columns]"
            ]
          },
          "metadata": {
            "tags": []
          }
        }
      ]
    }
  ]
}